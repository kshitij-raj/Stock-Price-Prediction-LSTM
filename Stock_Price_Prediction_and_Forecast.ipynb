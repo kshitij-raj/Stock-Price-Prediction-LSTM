{
  "nbformat": 4,
  "nbformat_minor": 0,
  "metadata": {
    "colab": {
      "name": "Stock Price Prediction and Forecast.ipynb",
      "provenance": []
    },
    "kernelspec": {
      "name": "python3",
      "display_name": "Python 3"
    },
    "language_info": {
      "name": "python"
    }
  },
  "cells": [
    {
      "cell_type": "code",
      "metadata": {
        "id": "gRe4ePVB1eYS"
      },
      "source": [
        "#Import required libraries\n",
        "\n",
        "import pandas_datareader as pdr\n",
        "import numpy as np\n",
        "import pandas as pd\n",
        "import matplotlib.pyplot as plt\n",
        "\n",
        "from sklearn.preprocessing import MinMaxScaler\n",
        "\n",
        "from tensorflow.keras.models import Sequential\n",
        "from tensorflow.keras.layers import Dense, LSTM\n",
        "\n",
        "from tensorflow.keras.callbacks import  EarlyStopping\n",
        "from tensorflow.keras import optimizers\n",
        "\n",
        "import tensorflow as tf\n",
        "\n",
        "import warnings\n",
        "warnings.filterwarnings(\"ignore\")"
      ],
      "execution_count": 1,
      "outputs": []
    },
    {
      "cell_type": "code",
      "metadata": {
        "id": "Q60JqsLU2XRP"
      },
      "source": [
        "#Get Apple stock ptrice data from Tiingo\n",
        "#Tiingo - https://api.tiingo.com/\n",
        "\n",
        "#key = \"Generate Key from Tiingo\"\n",
        "df = pdr.get_data_tiingo('GOOGL',api_key=key)"
      ],
      "execution_count": 2,
      "outputs": []
    },
    {
      "cell_type": "code",
      "metadata": {
        "id": "OcTYtAK12_2z"
      },
      "source": [
        "#Save dataset as csv\n",
        "df.to_csv('GOOGL.csv')"
      ],
      "execution_count": 3,
      "outputs": []
    },
    {
      "cell_type": "code",
      "metadata": {
        "colab": {
          "base_uri": "https://localhost:8080/",
          "height": 200
        },
        "id": "hExXWERU3wxw",
        "outputId": "533d3a60-57cb-4c67-fcf9-d404e99ddfbf"
      },
      "source": [
        "#read the saved csv file\n",
        "df = pd.read_csv('GOOGL.csv')\n",
        "df.head()"
      ],
      "execution_count": 4,
      "outputs": [
        {
          "output_type": "execute_result",
          "data": {
            "text/html": [
              "<div>\n",
              "<style scoped>\n",
              "    .dataframe tbody tr th:only-of-type {\n",
              "        vertical-align: middle;\n",
              "    }\n",
              "\n",
              "    .dataframe tbody tr th {\n",
              "        vertical-align: top;\n",
              "    }\n",
              "\n",
              "    .dataframe thead th {\n",
              "        text-align: right;\n",
              "    }\n",
              "</style>\n",
              "<table border=\"1\" class=\"dataframe\">\n",
              "  <thead>\n",
              "    <tr style=\"text-align: right;\">\n",
              "      <th></th>\n",
              "      <th>symbol</th>\n",
              "      <th>date</th>\n",
              "      <th>close</th>\n",
              "      <th>high</th>\n",
              "      <th>low</th>\n",
              "      <th>open</th>\n",
              "      <th>volume</th>\n",
              "      <th>adjClose</th>\n",
              "      <th>adjHigh</th>\n",
              "      <th>adjLow</th>\n",
              "      <th>adjOpen</th>\n",
              "      <th>adjVolume</th>\n",
              "      <th>divCash</th>\n",
              "      <th>splitFactor</th>\n",
              "    </tr>\n",
              "  </thead>\n",
              "  <tbody>\n",
              "    <tr>\n",
              "      <th>0</th>\n",
              "      <td>GOOGL</td>\n",
              "      <td>2016-10-19 00:00:00+00:00</td>\n",
              "      <td>827.09</td>\n",
              "      <td>829.810</td>\n",
              "      <td>823.2050</td>\n",
              "      <td>824.52</td>\n",
              "      <td>1500142</td>\n",
              "      <td>827.09</td>\n",
              "      <td>829.810</td>\n",
              "      <td>823.2050</td>\n",
              "      <td>824.52</td>\n",
              "      <td>1500142</td>\n",
              "      <td>0.0</td>\n",
              "      <td>1.0</td>\n",
              "    </tr>\n",
              "    <tr>\n",
              "      <th>1</th>\n",
              "      <td>GOOGL</td>\n",
              "      <td>2016-10-20 00:00:00+00:00</td>\n",
              "      <td>821.63</td>\n",
              "      <td>828.465</td>\n",
              "      <td>820.5500</td>\n",
              "      <td>827.56</td>\n",
              "      <td>1393870</td>\n",
              "      <td>821.63</td>\n",
              "      <td>828.465</td>\n",
              "      <td>820.5500</td>\n",
              "      <td>827.56</td>\n",
              "      <td>1393870</td>\n",
              "      <td>0.0</td>\n",
              "      <td>1.0</td>\n",
              "    </tr>\n",
              "    <tr>\n",
              "      <th>2</th>\n",
              "      <td>GOOGL</td>\n",
              "      <td>2016-10-21 00:00:00+00:00</td>\n",
              "      <td>824.06</td>\n",
              "      <td>824.290</td>\n",
              "      <td>818.3100</td>\n",
              "      <td>820.00</td>\n",
              "      <td>1615814</td>\n",
              "      <td>824.06</td>\n",
              "      <td>824.290</td>\n",
              "      <td>818.3100</td>\n",
              "      <td>820.00</td>\n",
              "      <td>1615814</td>\n",
              "      <td>0.0</td>\n",
              "      <td>1.0</td>\n",
              "    </tr>\n",
              "    <tr>\n",
              "      <th>3</th>\n",
              "      <td>GOOGL</td>\n",
              "      <td>2016-10-24 00:00:00+00:00</td>\n",
              "      <td>835.74</td>\n",
              "      <td>837.940</td>\n",
              "      <td>829.0400</td>\n",
              "      <td>830.09</td>\n",
              "      <td>1447616</td>\n",
              "      <td>835.74</td>\n",
              "      <td>837.940</td>\n",
              "      <td>829.0400</td>\n",
              "      <td>830.09</td>\n",
              "      <td>1447616</td>\n",
              "      <td>0.0</td>\n",
              "      <td>1.0</td>\n",
              "    </tr>\n",
              "    <tr>\n",
              "      <th>4</th>\n",
              "      <td>GOOGL</td>\n",
              "      <td>2016-10-25 00:00:00+00:00</td>\n",
              "      <td>828.55</td>\n",
              "      <td>838.500</td>\n",
              "      <td>825.3005</td>\n",
              "      <td>838.50</td>\n",
              "      <td>1890712</td>\n",
              "      <td>828.55</td>\n",
              "      <td>838.500</td>\n",
              "      <td>825.3005</td>\n",
              "      <td>838.50</td>\n",
              "      <td>1890712</td>\n",
              "      <td>0.0</td>\n",
              "      <td>1.0</td>\n",
              "    </tr>\n",
              "  </tbody>\n",
              "</table>\n",
              "</div>"
            ],
            "text/plain": [
              "  symbol                       date   close  ...  adjVolume  divCash  splitFactor\n",
              "0  GOOGL  2016-10-19 00:00:00+00:00  827.09  ...    1500142      0.0          1.0\n",
              "1  GOOGL  2016-10-20 00:00:00+00:00  821.63  ...    1393870      0.0          1.0\n",
              "2  GOOGL  2016-10-21 00:00:00+00:00  824.06  ...    1615814      0.0          1.0\n",
              "3  GOOGL  2016-10-24 00:00:00+00:00  835.74  ...    1447616      0.0          1.0\n",
              "4  GOOGL  2016-10-25 00:00:00+00:00  828.55  ...    1890712      0.0          1.0\n",
              "\n",
              "[5 rows x 14 columns]"
            ]
          },
          "metadata": {},
          "execution_count": 4
        }
      ]
    },
    {
      "cell_type": "code",
      "metadata": {
        "colab": {
          "base_uri": "https://localhost:8080/",
          "height": 283
        },
        "id": "KvP6S801368G",
        "outputId": "9cbda3d3-215b-4644-acf6-b258702d7f8f"
      },
      "source": [
        "df = df.reset_index()['close']\n",
        "plt.plot(df)"
      ],
      "execution_count": 5,
      "outputs": [
        {
          "output_type": "execute_result",
          "data": {
            "text/plain": [
              "[<matplotlib.lines.Line2D at 0x7fae0b001f10>]"
            ]
          },
          "metadata": {},
          "execution_count": 5
        },
        {
          "output_type": "display_data",
          "data": {
            "image/png": "[encoded data removed]",
            "text/plain": [
              "<Figure size 432x288 with 1 Axes>"
            ]
          },
          "metadata": {
            "needs_background": "light"
          }
        }
      ]
    },
    {
      "cell_type": "code",
      "metadata": {
        "colab": {
          "base_uri": "https://localhost:8080/"
        },
        "id": "MAM2B22N4ttu",
        "outputId": "19908ccb-1da0-474e-f54c-30b694745c4f"
      },
      "source": [
        "### LSTM are sensitive to the scale of the data. So we apply MinMax Scaler\n",
        "scaler = MinMaxScaler()\n",
        "df = scaler.fit_transform(np.array(df).reshape(-1,1))\n",
        "df"
      ],
      "execution_count": 6,
      "outputs": [
        {
          "output_type": "execute_result",
          "data": {
            "text/plain": [
              "array([[0.03434073],\n",
              "       [0.03180248],\n",
              "       [0.03293214],\n",
              "       ...,\n",
              "       [0.92902668],\n",
              "       [0.96220986],\n",
              "       [0.96422744]])"
            ]
          },
          "metadata": {},
          "execution_count": 6
        }
      ]
    },
    {
      "cell_type": "code",
      "metadata": {
        "colab": {
          "base_uri": "https://localhost:8080/"
        },
        "id": "5ad6K0EI7x-K",
        "outputId": "7e564f45-3448-453c-c0eb-36fcea90298e"
      },
      "source": [
        "### Splitting data into Train and Test set\n",
        "training_size = int(len(df)*0.7)\n",
        "test_size =  len(df) - training_size\n",
        "\n",
        "train_data = df[0:training_size,:]\n",
        "test_data = df[training_size:len(df),:]\n",
        "\n",
        "print(\"Train Data Size\",training_size)\n",
        "print(\"Test Data size\",test_size)"
      ],
      "execution_count": 7,
      "outputs": [
        {
          "output_type": "stream",
          "name": "stdout",
          "text": [
            "Train Data Size 879\n",
            "Test Data size 378\n"
          ]
        }
      ]
    },
    {
      "cell_type": "code",
      "metadata": {
        "id": "HSPCyZjZ9vN8"
      },
      "source": [
        "#Create Train and test data set\n",
        "\n",
        "def create_dataset(dataset,time_step):\n",
        "  dataX,dataY = [], []\n",
        "  for i in range(len(dataset) - time_step - 1):\n",
        "    a = dataset[i:(i + time_step),0]\n",
        "    dataX.append(a)\n",
        "    dataY.append(dataset[(i+time_step),0])\n",
        "  return np.array(dataX),np.array(dataY)\n",
        "\n",
        "\n",
        "#reshape into X = t,t+1,t+2,....,t+149 and y = t+150\n",
        "time_step = 150\n",
        "X_train, y_train = create_dataset(train_data,time_step)\n",
        "X_test,  y_test  = create_dataset(test_data,time_step)\n"
      ],
      "execution_count": 8,
      "outputs": []
    },
    {
      "cell_type": "code",
      "metadata": {
        "id": "9_7tqTvUCOJB"
      },
      "source": [
        "#reshape input to be [samples, time steps, features] which is required for LSTM\n",
        "X_train = X_train.reshape(X_train.shape[0],X_train.shape[1],1)\n",
        "X_test  = X_test.reshape(X_test.shape[0],X_test.shape[1],1)"
      ],
      "execution_count": 9,
      "outputs": []
    },
    {
      "cell_type": "code",
      "metadata": {
        "id": "YXbcJxDduUlm"
      },
      "source": [
        "#Create Stacked LSTM Model\n",
        "\n",
        "#return_sequence=True : If We want to have a sequence for the output, not just a single vector as we did with normal Neural Networks,\n",
        "#so it’s necessary that we set the return_sequences to True. Concretely, let’s say we have an input with shape (num_seq, seq_len, num_feature).\n",
        "#If we don’t set return_sequences=True, our output will have the shape (num_seq, num_feature), but if we do, we will obtain the output with shape (num_seq, seq_len, num_feature).\n",
        "\n",
        "model = Sequential()\n",
        "\n",
        "model.add(LSTM(50,return_sequences=True,input_shape=(150,1)))\n",
        "model.add(LSTM(50,return_sequences=True))\n",
        "model.add(LSTM(50))\n",
        "model.add(Dense(1))"
      ],
      "execution_count": 10,
      "outputs": []
    },
    {
      "cell_type": "code",
      "metadata": {
        "colab": {
          "base_uri": "https://localhost:8080/"
        },
        "id": "AczzYpyRxrcT",
        "outputId": "f141eefa-202c-45aa-e8cf-f68f447aff49"
      },
      "source": [
        "model.summary()"
      ],
      "execution_count": 11,
      "outputs": [
        {
          "output_type": "stream",
          "name": "stdout",
          "text": [
            "Model: \"sequential\"\n",
            "_________________________________________________________________\n",
            "Layer (type)                 Output Shape              Param #   \n",
            "=================================================================\n",
            "lstm (LSTM)                  (None, 150, 50)           10400     \n",
            "_________________________________________________________________\n",
            "lstm_1 (LSTM)                (None, 150, 50)           20200     \n",
            "_________________________________________________________________\n",
            "lstm_2 (LSTM)                (None, 50)                20200     \n",
            "_________________________________________________________________\n",
            "dense (Dense)                (None, 1)                 51        \n",
            "=================================================================\n",
            "Total params: 50,851\n",
            "Trainable params: 50,851\n",
            "Non-trainable params: 0\n",
            "_________________________________________________________________\n"
          ]
        }
      ]
    },
    {
      "cell_type": "code",
      "metadata": {
        "id": "8g34ssd0xxkM"
      },
      "source": [
        "optimizer = optimizers.Adam(learning_rate=0.01)\n",
        "\n",
        "#Compile the Model\n",
        "model.compile(loss='mean_squared_error',optimizer=optimizer)\n"
      ],
      "execution_count": 12,
      "outputs": []
    },
    {
      "cell_type": "code",
      "metadata": {
        "colab": {
          "base_uri": "https://localhost:8080/"
        },
        "id": "ox4oDhivzM_u",
        "outputId": "4237a9f8-208f-40d6-d945-ed35fd50072b"
      },
      "source": [
        "#Stop training when a monitored metric has stopped improving.\n",
        "earlystop = EarlyStopping(monitor=\"val_loss\",patience=10,mode=\"auto\",verbose=1)\n",
        "\n",
        "history = model.fit(X_train,y_train,validation_data=(X_test,y_test),epochs=100,batch_size=64,verbose=1,callbacks=[earlystop])"
      ],
      "execution_count": 13,
      "outputs": [
        {
          "output_type": "stream",
          "name": "stdout",
          "text": [
            "Epoch 1/100\n",
            "12/12 [==============================] - 9s 389ms/step - loss: 0.0096 - val_loss: 0.1810\n",
            "Epoch 2/100\n",
            "12/12 [==============================] - 3s 275ms/step - loss: 0.0021 - val_loss: 0.0644\n",
            "Epoch 3/100\n",
            "12/12 [==============================] - 3s 272ms/step - loss: 6.3818e-04 - val_loss: 0.0519\n",
            "Epoch 4/100\n",
            "12/12 [==============================] - 3s 274ms/step - loss: 4.4688e-04 - val_loss: 0.0100\n",
            "Epoch 5/100\n",
            "12/12 [==============================] - 3s 272ms/step - loss: 3.8179e-04 - val_loss: 0.0193\n",
            "Epoch 6/100\n",
            "12/12 [==============================] - 3s 270ms/step - loss: 3.6201e-04 - val_loss: 0.0121\n",
            "Epoch 7/100\n",
            "12/12 [==============================] - 3s 272ms/step - loss: 3.3480e-04 - val_loss: 0.0117\n",
            "Epoch 8/100\n",
            "12/12 [==============================] - 3s 273ms/step - loss: 2.9703e-04 - val_loss: 0.0087\n",
            "Epoch 9/100\n",
            "12/12 [==============================] - 3s 272ms/step - loss: 2.6431e-04 - val_loss: 0.0130\n",
            "Epoch 10/100\n",
            "12/12 [==============================] - 3s 275ms/step - loss: 2.8521e-04 - val_loss: 0.0124\n",
            "Epoch 11/100\n",
            "12/12 [==============================] - 3s 271ms/step - loss: 2.5541e-04 - val_loss: 0.0051\n",
            "Epoch 12/100\n",
            "12/12 [==============================] - 3s 271ms/step - loss: 3.2134e-04 - val_loss: 0.0063\n",
            "Epoch 13/100\n",
            "12/12 [==============================] - 3s 275ms/step - loss: 2.5390e-04 - val_loss: 0.0032\n",
            "Epoch 14/100\n",
            "12/12 [==============================] - 3s 275ms/step - loss: 2.4431e-04 - val_loss: 0.0078\n",
            "Epoch 15/100\n",
            "12/12 [==============================] - 3s 273ms/step - loss: 2.6585e-04 - val_loss: 0.0120\n",
            "Epoch 16/100\n",
            "12/12 [==============================] - 3s 274ms/step - loss: 3.7103e-04 - val_loss: 0.0013\n",
            "Epoch 17/100\n",
            "12/12 [==============================] - 3s 278ms/step - loss: 2.5272e-04 - val_loss: 9.3273e-04\n",
            "Epoch 18/100\n",
            "12/12 [==============================] - 3s 276ms/step - loss: 2.1224e-04 - val_loss: 0.0053\n",
            "Epoch 19/100\n",
            "12/12 [==============================] - 3s 271ms/step - loss: 1.8935e-04 - val_loss: 0.0043\n",
            "Epoch 20/100\n",
            "12/12 [==============================] - 3s 271ms/step - loss: 1.9000e-04 - val_loss: 0.0052\n",
            "Epoch 21/100\n",
            "12/12 [==============================] - 3s 273ms/step - loss: 1.8821e-04 - val_loss: 6.3400e-04\n",
            "Epoch 22/100\n",
            "12/12 [==============================] - 3s 273ms/step - loss: 1.9246e-04 - val_loss: 5.4395e-04\n",
            "Epoch 23/100\n",
            "12/12 [==============================] - 3s 277ms/step - loss: 2.0120e-04 - val_loss: 0.0075\n",
            "Epoch 24/100\n",
            "12/12 [==============================] - 3s 276ms/step - loss: 2.5019e-04 - val_loss: 0.0054\n",
            "Epoch 25/100\n",
            "12/12 [==============================] - 3s 275ms/step - loss: 2.2412e-04 - val_loss: 0.0030\n",
            "Epoch 26/100\n",
            "12/12 [==============================] - 3s 274ms/step - loss: 1.5870e-04 - val_loss: 0.0034\n",
            "Epoch 27/100\n",
            "12/12 [==============================] - 3s 272ms/step - loss: 1.6178e-04 - val_loss: 0.0015\n",
            "Epoch 28/100\n",
            "12/12 [==============================] - 3s 275ms/step - loss: 1.9278e-04 - val_loss: 0.0025\n",
            "Epoch 29/100\n",
            "12/12 [==============================] - 3s 272ms/step - loss: 2.1601e-04 - val_loss: 0.0042\n",
            "Epoch 30/100\n",
            "12/12 [==============================] - 3s 271ms/step - loss: 2.0310e-04 - val_loss: 0.0011\n",
            "Epoch 31/100\n",
            "12/12 [==============================] - 3s 273ms/step - loss: 1.8602e-04 - val_loss: 0.0018\n",
            "Epoch 32/100\n",
            "12/12 [==============================] - 3s 274ms/step - loss: 1.5229e-04 - val_loss: 7.4360e-04\n",
            "Epoch 00032: early stopping\n"
          ]
        }
      ]
    },
    {
      "cell_type": "code",
      "metadata": {
        "colab": {
          "base_uri": "https://localhost:8080/",
          "height": 621
        },
        "id": "J4yh_zcF0Uwa",
        "outputId": "3322b05d-8dba-4760-84c8-7910385fb42e"
      },
      "source": [
        "#Plot Model Loss\n",
        "plt.figure(figsize=(10, 10))\n",
        "plt.plot(history.history['loss'])\n",
        "plt.plot(history.history['val_loss'])\n",
        "plt.title('model loss')\n",
        "plt.ylabel('loss')\n",
        "plt.xlabel(\"Epochs\")\n",
        "plt.legend(['train', 'val'], loc='upper left')\n",
        "plt.show()"
      ],
      "execution_count": 14,
      "outputs": [
        {
          "output_type": "display_data",
          "data": {
            "image/png": "[encoded data removed]",
            "text/plain": [
              "<Figure size 720x720 with 1 Axes>"
            ]
          },
          "metadata": {
            "needs_background": "light"
          }
        }
      ]
    },
    {
      "cell_type": "code",
      "metadata": {
        "id": "RlScWGwy13kr"
      },
      "source": [
        "#Prediction\n",
        "train_predict = model.predict(X_train)\n",
        "test_predict =  model.predict(X_test)"
      ],
      "execution_count": 15,
      "outputs": []
    },
    {
      "cell_type": "code",
      "metadata": {
        "id": "rW21I9Vs2wP_"
      },
      "source": [
        "#Transform to original form\n",
        "train_predict = scaler.inverse_transform(train_predict)\n",
        "test_predict  = scaler.inverse_transform(test_predict)"
      ],
      "execution_count": 16,
      "outputs": []
    },
    {
      "cell_type": "code",
      "metadata": {
        "colab": {
          "base_uri": "https://localhost:8080/",
          "height": 592
        },
        "id": "6covPAen3ms4",
        "outputId": "5d36ad85-a540-4390-edd2-f6429ee51652"
      },
      "source": [
        "#Plotting\n",
        "\n",
        "#Shift train prediction for plotting\n",
        "look_back = 150\n",
        "trainPredictPlot = np.empty_like(df)\n",
        "trainPredictPlot[:,:] = np.nan\n",
        "trainPredictPlot[look_back:len(train_predict)+look_back, :] = train_predict\n",
        "\n",
        "#Shift test prediction for plotting\n",
        "testPredictPlot = np.empty_like(df)\n",
        "testPredictPlot[:,:] = np.nan\n",
        "testPredictPlot[len(train_predict)+(look_back*2)+1:len(df)-1, :] = test_predict\n",
        "\n",
        "plt.figure(figsize=(10, 10))\n",
        "plt.plot(scaler.inverse_transform(df))\n",
        "plt.plot(trainPredictPlot)\n",
        "plt.plot(testPredictPlot)\n",
        "plt.show()"
      ],
      "execution_count": 17,
      "outputs": [
        {
          "output_type": "display_data",
          "data": {
            "image/png": "[encoded data removed]",
            "text/plain": [
              "<Figure size 720x720 with 1 Axes>"
            ]
          },
          "metadata": {
            "needs_background": "light"
          }
        }
      ]
    },
    {
      "cell_type": "code",
      "metadata": {
        "colab": {
          "base_uri": "https://localhost:8080/"
        },
        "id": "CddNEPoaIYsi",
        "outputId": "911a314b-a098-4218-8df9-f9149073de7b"
      },
      "source": [
        "#Predict Stock price for the future 30 days\n",
        "X_input = test_data[228:,:].reshape(1,-1)\n",
        "X_input.shape"
      ],
      "execution_count": 18,
      "outputs": [
        {
          "output_type": "execute_result",
          "data": {
            "text/plain": [
              "(1, 150)"
            ]
          },
          "metadata": {},
          "execution_count": 18
        }
      ]
    },
    {
      "cell_type": "code",
      "metadata": {
        "id": "pU5SuszvKaE8"
      },
      "source": [
        "temp_input = list(X_input)\n",
        "temp_input = temp_input[0].tolist()"
      ],
      "execution_count": 19,
      "outputs": []
    },
    {
      "cell_type": "code",
      "metadata": {
        "id": "7DyO3MiHLoIg"
      },
      "source": [
        "lst_output = []\n",
        "n_steps = 150\n",
        "i = 0\n",
        "\n",
        "while(i <30):\n",
        "  if(len(temp_input)>150):\n",
        "    x_input = np.array(temp_input[i:])\n",
        "    x_input = x_input.reshape(1,-1)\n",
        "    x_input = x_input.reshape((1, n_steps, 1))\n",
        "    yhat = model.predict(x_input)\n",
        "    temp_input.extend(yhat[0].tolist())\n",
        "    lst_output.extend(yhat[0].tolist())\n",
        "    i = i + 1\n",
        "  else:\n",
        "    x_input = np.array(temp_input[i:])\n",
        "    x_input =  x_input.reshape((1, n_steps, 1))\n",
        "    yhat = model.predict(x_input)\n",
        "    temp_input.extend(yhat[0].tolist())\n",
        "    lst_output.extend(yhat[0].tolist())\n",
        "    i = i + 1"
      ],
      "execution_count": 20,
      "outputs": []
    },
    {
      "cell_type": "code",
      "metadata": {
        "id": "41DVrCE3N9Eo"
      },
      "source": [
        "predict_df =df.flatten().tolist()\n",
        "predict_df.extend(lst_output)"
      ],
      "execution_count": 21,
      "outputs": []
    },
    {
      "cell_type": "code",
      "metadata": {
        "colab": {
          "base_uri": "https://localhost:8080/",
          "height": 281
        },
        "id": "yC3nURdsYGAP",
        "outputId": "1f465c6c-2209-4b40-b24b-4b9671573a1a"
      },
      "source": [
        "plt.plot(scaler.inverse_transform(np.array(temp_input).reshape(-1,1)))"
      ],
      "execution_count": 22,
      "outputs": [
        {
          "output_type": "execute_result",
          "data": {
            "text/plain": [
              "[<matplotlib.lines.Line2D at 0x7fae06969510>]"
            ]
          },
          "metadata": {},
          "execution_count": 22
        },
        {
          "output_type": "display_data",
          "data": {
            "image/png": "[encoded data removed]",
            "text/plain": [
              "<Figure size 432x288 with 1 Axes>"
            ]
          },
          "metadata": {
            "needs_background": "light"
          }
        }
      ]
    }
  ]
}